{
 "cells": [
  {
   "metadata": {},
   "cell_type": "raw",
   "source": "Código de pruebas de consultas en la bases de datos del sistema.\n",
   "id": "154c39f0b70557be"
  },
  {
   "metadata": {
    "ExecuteTime": {
     "end_time": "2025-05-26T19:24:14.647002Z",
     "start_time": "2025-05-26T19:24:14.642197Z"
    }
   },
   "cell_type": "code",
   "source": [
    "import pandas as pd\n",
    "import numpy as np\n",
    "import os\n",
    "\n",
    "# Ruta base: carpeta donde está el notebook\n",
    "base_path = os.path.dirname(os.path.abspath(\"__file__\"))\n",
    "\n",
    "# Subir un nivel (de Software_Testing a Blackwater)\n",
    "blackwater_root = os.path.abspath(os.path.join(base_path, \"..\"))\n",
    "\n",
    "# Construir ruta a DB/\n",
    "db_path = os.path.join(\n",
    "    blackwater_root,\n",
    "    \"Central_Server\",\n",
    "    \"Resources\",\n",
    "    \"DB\"\n",
    ")\n",
    "\n",
    "#Cargar las direcciones de las db\n",
    "users_path = os.path.join(db_path, 'users.parquet')\n",
    "users_data_path = os.path.join(db_path, 'users_data.parquet')\n",
    "users_balance_path = os.path.join(db_path, 'users_balance.parquet')\n",
    "users_biometrics_path = os.path.join(db_path, 'users_biometrics.parquet')\n",
    "administrators_path = os.path.join(db_path, 'administrators.parquet')\n",
    "branches_path = os.path.join(db_path, 'branches.parquet')\n",
    "\n",
    "\n"
   ],
   "id": "8c93d6a16a41ea2b",
   "outputs": [],
   "execution_count": 26
  },
  {
   "metadata": {
    "ExecuteTime": {
     "end_time": "2025-05-26T19:24:14.681084Z",
     "start_time": "2025-05-26T19:24:14.667276Z"
    }
   },
   "cell_type": "code",
   "source": [
    "# Carga de los archivos\n",
    "try:\n",
    "    users_df = pd.read_parquet(users_path)\n",
    "    users_data_df = pd.read_parquet(users_data_path)\n",
    "    users_balance_df = pd.read_parquet(users_balance_path)\n",
    "    users_biometrics_df = pd.read_parquet(users_biometrics_path)\n",
    "    administrators_df = pd.read_parquet(administrators_path)\n",
    "    branches_df = pd.read_parquet(branches_path)\n",
    "\n",
    "    print(\"Todos los archivos se cargaron correctamente.\")\n",
    "\n",
    "except Exception as e:\n",
    "    print(f\"Error al cargar los archivos: {e}\")"
   ],
   "id": "d54ac0eb24cb6eb4",
   "outputs": [
    {
     "name": "stdout",
     "output_type": "stream",
     "text": [
      "Todos los archivos se cargaron correctamente.\n"
     ]
    }
   ],
   "execution_count": 27
  },
  {
   "metadata": {
    "ExecuteTime": {
     "end_time": "2025-05-26T19:24:14.708428Z",
     "start_time": "2025-05-26T19:24:14.698979Z"
    }
   },
   "cell_type": "code",
   "source": [
    "print(\"Users\")\n",
    "print(users_df.head())\n",
    "print(users_df.columns)\n",
    "print(\"\\n\")\n",
    "\n",
    "print(\"Data\")\n",
    "print(users_data_df.head())\n",
    "print(users_data_df.columns)\n",
    "print(\"\\n\")\n",
    "\n",
    "print(\"Balance\")\n",
    "print(users_balance_df.head())\n",
    "print(users_balance_df.columns)\n",
    "print(\"\\n\")\n",
    "\n",
    "print(\"Biometrics\")\n",
    "print(users_biometrics_df.head())\n",
    "print(users_biometrics_df.columns)\n",
    "print(\"\\n\")\n",
    "\n",
    "print(\"Administrators\")\n",
    "print(administrators_df.head())\n",
    "print(administrators_df.columns)\n",
    "print(\"\\n\")\n",
    "\n",
    "print(\"Branches\")\n",
    "print(branches_df.head())\n",
    "print(branches_df.columns)\n",
    "print(\"\\n\")\n"
   ],
   "id": "161b022d8d7d8c6e",
   "outputs": [
    {
     "name": "stdout",
     "output_type": "stream",
     "text": [
      "Users\n",
      "      user password\n",
      "0    admin    admin\n",
      "1  A0000EC   100625\n",
      "2  A0000DF   100625\n",
      "3  A0000JA   100625\n",
      "4  A0000RM   100625\n",
      "Index(['user', 'password'], dtype='object')\n",
      "\n",
      "\n",
      "Data\n",
      "   number     user     name last_name      curp\n",
      "0     1.0    admin    admin     admin     admin\n",
      "1     2.0  A0000EC    Erick    Corona  EDCG0000\n",
      "2     3.0  A0000DF    Félix   Serrano  JFST0000\n",
      "3     4.0  A0000JA    Jesús   Alcaraz  JJAT0000\n",
      "4     5.0  A0000RM  Ricardo  Martínez   RMR0000\n",
      "Index(['number', 'user', 'name', 'last_name', 'curp'], dtype='object')\n",
      "\n",
      "\n",
      "Balance\n",
      "      user          balance\n",
      "0    admin   $1,000,000.00 \n",
      "1  A0000EC   $1,000,000.00 \n",
      "2  A0000DF   $1,000,000.00 \n",
      "3  A0000JA   $1,000,000.00 \n",
      "4  A0000RM   $1,000,000.00 \n",
      "Index(['user', 'balance'], dtype='object')\n",
      "\n",
      "\n",
      "Biometrics\n",
      "      user  biometric\n",
      "0    admin          0\n",
      "1  A0000EC          0\n",
      "2  A0000DF          0\n",
      "3  A0000JA          0\n",
      "4  A0000RM          0\n",
      "Index(['user', 'biometric'], dtype='object')\n",
      "\n",
      "\n",
      "Administrators\n",
      "   number     user password\n",
      "0       1    admin    admin\n",
      "1       2  A0000EC   100625\n",
      "2       3  A0000DF   100625\n",
      "3       4  A0000JA   100625\n",
      "4       5  A0000RM   100625\n",
      "Index(['number', 'user', 'password'], dtype='object')\n",
      "\n",
      "\n",
      "Branches\n",
      "   number     user password\n",
      "0       1    admin    admin\n",
      "1       2  A0000EC   100625\n",
      "2       3  A0000DF   100625\n",
      "3       4  A0000JA   100625\n",
      "4       5  A0000RM   100625\n",
      "Index(['number', 'user', 'password'], dtype='object')\n",
      "\n",
      "\n"
     ]
    }
   ],
   "execution_count": 28
  },
  {
   "metadata": {},
   "cell_type": "markdown",
   "source": "Consultas para validar el usuario existe o ingestarlo.",
   "id": "289c845da82b2781"
  },
  {
   "metadata": {
    "ExecuteTime": {
     "end_time": "2025-05-26T19:24:14.736970Z",
     "start_time": "2025-05-26T19:24:14.732007Z"
    }
   },
   "cell_type": "code",
   "source": [
    "#USERS\n",
    "\n",
    "nuevo_usuario = {\n",
    "    'user': 'A00123AB',\n",
    "    'password': '000000'  # Ojo: como string, no como número\n",
    "}\n",
    "\n",
    "# Validar si ya existe el valor de 'user'\n",
    "if nuevo_usuario['user'] in users_df['user'].values:\n",
    "    print(f\"⚠️ El usuario '{nuevo_usuario['user']}' ya existe. No se insertó.\")\n",
    "else:\n",
    "    # Insertar nuevo registro\n",
    "    nuevo_df = pd.DataFrame([nuevo_usuario])\n",
    "    df = pd.concat([users_df, nuevo_df], ignore_index=True)\n",
    "\n",
    "    # Guardar de vuelta\n",
    "    df.to_parquet(users_path, index=False)\n",
    "    print(f\"✅ Usuario '{nuevo_usuario['user']}' insertado correctamente.\")\n"
   ],
   "id": "976f1c15f01aa394",
   "outputs": [
    {
     "name": "stdout",
     "output_type": "stream",
     "text": [
      "⚠️ El usuario 'A00123AB' ya existe. No se insertó.\n"
     ]
    }
   ],
   "execution_count": 29
  },
  {
   "metadata": {
    "ExecuteTime": {
     "end_time": "2025-05-26T19:24:14.769594Z",
     "start_time": "2025-05-26T19:24:14.760653Z"
    }
   },
   "cell_type": "code",
   "source": [
    "nuevo_usuario = {\n",
    "    'user': 'A00123AB',\n",
    "    'name': 'Pruebas',\n",
    "    'last_name': 'Pruebas',\n",
    "    'curp': 'PPPP0000'\n",
    "}\n",
    "\n",
    "# Validar si ya existe el valor de 'curp'\n",
    "if nuevo_usuario['curp'] in users_data_df['curp'].values:\n",
    "    print(f\"⚠️ El usuario con CURP '{nuevo_usuario['curp']}' ya existe. No se insertó.\")\n",
    "else:\n",
    "    # Calcular nuevo valor para 'number'\n",
    "    nuevo_usuario['number'] = len(users_data_df) + 1\n",
    "\n",
    "    # Crear DataFrame con el nuevo usuario\n",
    "    nuevo_df = pd.DataFrame([nuevo_usuario])\n",
    "\n",
    "    # Concatenar con el DataFrame original\n",
    "    df = pd.concat([users_data_df, nuevo_df], ignore_index=True)\n",
    "\n",
    "    # Guardar el DataFrame actualizado\n",
    "    df.to_parquet(users_data_path, index=False)\n",
    "    print(f\"✅ Usuario '{nuevo_usuario['user']}' insertado correctamente.\")\n",
    "\n",
    "# Mostrar información de prueba\n",
    "print(\"Data\")\n",
    "print(users_data_df.head(10))\n",
    "print(users_data_df.columns)\n",
    "print(\"\\n\")\n"
   ],
   "id": "10a293b7efef4a28",
   "outputs": [
    {
     "name": "stdout",
     "output_type": "stream",
     "text": [
      "✅ Usuario 'A00123AB' insertado correctamente.\n",
      "Data\n",
      "   number     user     name last_name      curp\n",
      "0     1.0    admin    admin     admin     admin\n",
      "1     2.0  A0000EC    Erick    Corona  EDCG0000\n",
      "2     3.0  A0000DF    Félix   Serrano  JFST0000\n",
      "3     4.0  A0000JA    Jesús   Alcaraz  JJAT0000\n",
      "4     5.0  A0000RM  Ricardo  Martínez   RMR0000\n",
      "5     6.0  A0000AM     Axel   Ernesto  AEMC0000\n",
      "6     7.0  A0000SO     Saúl   De la O  SDOT0000\n",
      "7     8.0  A0000GC  Gerardo    Corona  GVCG0000\n",
      "Index(['number', 'user', 'name', 'last_name', 'curp'], dtype='object')\n",
      "\n",
      "\n"
     ]
    }
   ],
   "execution_count": 30
  },
  {
   "metadata": {
    "ExecuteTime": {
     "end_time": "2025-05-26T19:24:14.793557Z",
     "start_time": "2025-05-26T19:24:14.787500Z"
    }
   },
   "cell_type": "code",
   "source": [
    "# Eliminar el usuario con curp 'PPPP0000'\n",
    "users_data_df = users_data_df[users_data_df['curp'] != 'PPPP0000']\n",
    "\n",
    "# Guardar los cambios\n",
    "users_data_df.to_parquet(users_data_path, index=False)\n",
    "print(\"✅ Usuario eliminado.\")\n"
   ],
   "id": "9e81ae92b9790768",
   "outputs": [
    {
     "name": "stdout",
     "output_type": "stream",
     "text": [
      "✅ Usuario eliminado.\n"
     ]
    }
   ],
   "execution_count": 31
  }
 ],
 "metadata": {},
 "nbformat": 4,
 "nbformat_minor": 5
}
