{
 "cells": [
  {
   "metadata": {},
   "cell_type": "markdown",
   "source": "Buscar usuario",
   "id": "7839084ef404e494"
  },
  {
   "cell_type": "code",
   "id": "initial_id",
   "metadata": {
    "collapsed": true,
    "ExecuteTime": {
     "end_time": "2025-05-27T17:43:01.467745Z",
     "start_time": "2025-05-27T17:43:00.999400Z"
    }
   },
   "source": [
    "import socket\n",
    "import threading\n",
    "import pandas as pd\n",
    "import os\n",
    "from datetime import datetime\n",
    "\n",
    "# Usar cwd (current working directory) si estás en Jupyter o consola\n",
    "base_path = os.getcwd()\n",
    "blackwater_root = os.path.abspath(os.path.join(base_path, \"..\", \"..\", \"..\"))\n",
    "db_path = os.path.join(blackwater_root, \"Central_Server\", \"Resources\", \"DB\")\n",
    "\n",
    "users_balance_path = os.path.join(db_path, 'users_balance.parquet')\n",
    "\n",
    "# Cargar el DataFrame\n",
    "users_balance_df = pd.read_parquet(users_balance_path)\n",
    "\n",
    "# Convertir la columna 'balance' a float (manejo de errores con 'coerce')\n",
    "if 'balance' in users_balance_df.columns:\n",
    "    users_balance_df['balance'] = pd.to_numeric(users_balance_df['balance'], errors='coerce')\n",
    "\n",
    "    # Guardar cambios permanentes en el archivo parquet\n",
    "    users_balance_df.to_parquet(users_balance_path, index=False)\n"
   ],
   "outputs": [],
   "execution_count": 3
  },
  {
   "metadata": {},
   "cell_type": "code",
   "outputs": [],
   "execution_count": null,
   "source": "",
   "id": "3a858de7181d130b"
  }
 ],
 "metadata": {
  "kernelspec": {
   "display_name": "Python 3",
   "language": "python",
   "name": "python3"
  },
  "language_info": {
   "codemirror_mode": {
    "name": "ipython",
    "version": 2
   },
   "file_extension": ".py",
   "mimetype": "text/x-python",
   "name": "python",
   "nbconvert_exporter": "python",
   "pygments_lexer": "ipython2",
   "version": "2.7.6"
  }
 },
 "nbformat": 4,
 "nbformat_minor": 5
}
